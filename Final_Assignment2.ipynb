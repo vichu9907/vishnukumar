{
 "cells": [
  {
   "cell_type": "code",
   "execution_count": 3,
   "metadata": {},
   "outputs": [
    {
     "name": "stdout",
     "output_type": "stream",
     "text": [
      "['hello', 'Guvi', 'GEEK', 'hello', 'Guvi', 'GEEK']\n"
     ]
    }
   ],
   "source": [
    "#1\n",
    "#Repetition:\n",
    "List1=['hello','Guvi','GEEK']\n",
    "List2=List1*2\n",
    "print(List2)"
   ]
  },
  {
   "cell_type": "code",
   "execution_count": 4,
   "metadata": {},
   "outputs": [
    {
     "name": "stdout",
     "output_type": "stream",
     "text": [
      "['hello', 'Guvi', 'GEEK', 'hello', 'Guvi', 'GEEK', 'hello', 'Guvi', 'GEEK']\n"
     ]
    }
   ],
   "source": [
    "#Repetition2:\n",
    "List1=['hello','Guvi','GEEK']*3\n",
    "print(List1)"
   ]
  },
  {
   "cell_type": "code",
   "execution_count": 69,
   "metadata": {},
   "outputs": [
    {
     "name": "stdout",
     "output_type": "stream",
     "text": [
      "False\n",
      "True\n"
     ]
    }
   ],
   "source": [
    "#Membership\n",
    "List1=['hello','Guvi','GEEK']\n",
    "print('hello' not in List1)\n",
    "print('hello' in List1)"
   ]
  },
  {
   "cell_type": "code",
   "execution_count": 6,
   "metadata": {},
   "outputs": [
    {
     "name": "stdout",
     "output_type": "stream",
     "text": [
      "['hello', 'Guvi', 'GEEK', 'Vishnu']\n"
     ]
    }
   ],
   "source": [
    "#Concatenation:\n",
    "List1=['hello','Guvi','GEEK']+['Vishnu']\n",
    "print(List1)"
   ]
  },
  {
   "cell_type": "code",
   "execution_count": 7,
   "metadata": {},
   "outputs": [
    {
     "name": "stdout",
     "output_type": "stream",
     "text": [
      "3\n"
     ]
    }
   ],
   "source": [
    "#Length:\n",
    "List1=['hello','Guvi','GEEK']\n",
    "print(len(List1))"
   ]
  },
  {
   "cell_type": "code",
   "execution_count": 11,
   "metadata": {},
   "outputs": [
    {
     "name": "stdout",
     "output_type": "stream",
     "text": [
      "hello\n",
      "Guvi\n",
      "GEEK\n"
     ]
    }
   ],
   "source": [
    "#Iteration:\n",
    "List1=['hello','Guvi','GEEK']\n",
    "for i in List1:\n",
    " print(i)\n"
   ]
  },
  {
   "cell_type": "code",
   "execution_count": 21,
   "metadata": {},
   "outputs": [
    {
     "name": "stdout",
     "output_type": "stream",
     "text": [
      "2700\n"
     ]
    }
   ],
   "source": [
    "#2\n",
    "#max()\n",
    "List1=[15,300,2700,821]\n",
    "List2=[12,2]\n",
    "List3=[34,567,78]\n",
    "List4=List1+List2+List3\n",
    "List=max(List4)\n",
    "print(List)"
   ]
  },
  {
   "cell_type": "code",
   "execution_count": 22,
   "metadata": {},
   "outputs": [
    {
     "name": "stdout",
     "output_type": "stream",
     "text": [
      "2\n"
     ]
    }
   ],
   "source": [
    "#min()\n",
    "List1=[15,300,2700,821]\n",
    "List2=[12,2]\n",
    "List3=[34,567,78]\n",
    "List4=List1+List2+List3\n",
    "List=min(List4)\n",
    "print(List)"
   ]
  },
  {
   "cell_type": "code",
   "execution_count": 24,
   "metadata": {},
   "outputs": [
    {
     "name": "stdout",
     "output_type": "stream",
     "text": [
      "[15, 300, 2700, 821, 12, 2, 34, 567, 78]\n"
     ]
    }
   ],
   "source": [
    "#list():\n",
    "List1=(15,300,2700,821)\n",
    "List2=(12,2)\n",
    "List3=(34,567,78)\n",
    "List4=List1+List2+List3\n",
    "List=list(List4)\n",
    "print(List)"
   ]
  },
  {
   "cell_type": "code",
   "execution_count": 25,
   "metadata": {},
   "outputs": [
    {
     "name": "stdout",
     "output_type": "stream",
     "text": [
      "(15, 300, 2700, 821, 12, 2, 34, 567, 78)\n"
     ]
    }
   ],
   "source": [
    "#List to Tuple\n",
    "List1=[15,300,2700,821]\n",
    "List2=[12,2]\n",
    "List3=[34,567,78]\n",
    "List4=List1+List2+List3\n",
    "List=tuple(List4)\n",
    "print(List)"
   ]
  },
  {
   "cell_type": "code",
   "execution_count": 26,
   "metadata": {},
   "outputs": [
    {
     "name": "stdout",
     "output_type": "stream",
     "text": [
      "['hello', 'Guvi', 'GEEK', 'Vishnu']\n"
     ]
    }
   ],
   "source": [
    "#3\n",
    "#list.append()\n",
    "List1=['hello','Guvi','GEEK']\n",
    "List1.append('Vishnu')\n",
    "print(List1)"
   ]
  },
  {
   "cell_type": "code",
   "execution_count": 30,
   "metadata": {},
   "outputs": [
    {
     "name": "stdout",
     "output_type": "stream",
     "text": [
      "[]\n"
     ]
    }
   ],
   "source": [
    "#list.clear()\n",
    "List1=['hello','Guvi','GEEK']\n",
    "List1.clear()\n",
    "print(List1)"
   ]
  },
  {
   "cell_type": "code",
   "execution_count": 34,
   "metadata": {},
   "outputs": [
    {
     "name": "stdout",
     "output_type": "stream",
     "text": [
      "['hello', 'Guvi', 'GEEK']\n"
     ]
    }
   ],
   "source": [
    "#List.copy()\n",
    "List1=['hello','Guvi','GEEK']\n",
    "List2=List1.copy()\n",
    "print(List2)"
   ]
  },
  {
   "cell_type": "code",
   "execution_count": 37,
   "metadata": {},
   "outputs": [
    {
     "data": {
      "text/plain": [
       "2"
      ]
     },
     "execution_count": 37,
     "metadata": {},
     "output_type": "execute_result"
    }
   ],
   "source": [
    "# list.count()\n",
    "List1=[15,300,2700,821,'hello','Guvi','GEEK','hello','Guvi','GEEK',15,300,2700,821]\n",
    "List1.count(15)"
   ]
  },
  {
   "cell_type": "code",
   "execution_count": 44,
   "metadata": {},
   "outputs": [
    {
     "name": "stdout",
     "output_type": "stream",
     "text": [
      "[15, 300, 2700, 821, 91, 43, 45, 33]\n"
     ]
    }
   ],
   "source": [
    "#list.extend()\n",
    "List1=[15,300,2700,821]\n",
    "List2=[91,43,45,33]\n",
    "List1.extend(List2)\n",
    "print(List1)"
   ]
  },
  {
   "cell_type": "code",
   "execution_count": 45,
   "metadata": {},
   "outputs": [
    {
     "data": {
      "text/plain": [
       "1"
      ]
     },
     "execution_count": 45,
     "metadata": {},
     "output_type": "execute_result"
    }
   ],
   "source": [
    "#list.index()\n",
    "List1=[15,300,2700,821]\n",
    "List1.index(300)"
   ]
  },
  {
   "cell_type": "code",
   "execution_count": 48,
   "metadata": {},
   "outputs": [
    {
     "name": "stdout",
     "output_type": "stream",
     "text": [
      "[91, 15, 300, 2700, 821]\n"
     ]
    }
   ],
   "source": [
    "#list.insert()\n",
    "List1=[15,300,2700,821]\n",
    "List1.insert(0,91)\n",
    "print(List1)"
   ]
  },
  {
   "cell_type": "code",
   "execution_count": 50,
   "metadata": {},
   "outputs": [
    {
     "name": "stdout",
     "output_type": "stream",
     "text": [
      "[15, 300, 2700]\n"
     ]
    }
   ],
   "source": [
    "#list.pop()\n",
    "List1=[15,300,2700,821]\n",
    "List1.pop(3)\n",
    "print(List1)"
   ]
  },
  {
   "cell_type": "code",
   "execution_count": 53,
   "metadata": {},
   "outputs": [
    {
     "name": "stdout",
     "output_type": "stream",
     "text": [
      "[15, 2700, 821]\n"
     ]
    }
   ],
   "source": [
    "#list.remove()\n",
    "List1=[15,300,2700,821]\n",
    "List1.remove(300)\n",
    "print(List1)"
   ]
  },
  {
   "cell_type": "code",
   "execution_count": 55,
   "metadata": {},
   "outputs": [
    {
     "name": "stdout",
     "output_type": "stream",
     "text": [
      "[821, 2700, 300, 15]\n"
     ]
    }
   ],
   "source": [
    "#list.reverse\n",
    "List1=[15,300,2700,821]\n",
    "List1.reverse()\n",
    "print(List1)"
   ]
  },
  {
   "cell_type": "code",
   "execution_count": 56,
   "metadata": {},
   "outputs": [
    {
     "name": "stdout",
     "output_type": "stream",
     "text": [
      "[15, 300, 821, 2700]\n"
     ]
    }
   ],
   "source": [
    "#list.sort()\n",
    "List1=[15,300,2700,821]\n",
    "List1.sort()\n",
    "print(List1)"
   ]
  },
  {
   "cell_type": "code",
   "execution_count": 58,
   "metadata": {},
   "outputs": [
    {
     "name": "stdout",
     "output_type": "stream",
     "text": [
      "('a', 'b', 'c', 'd', 'a', 'b', 'c', 'd')\n"
     ]
    }
   ],
   "source": [
    "#3 Tuple Operation.\n",
    "#Repetition:\n",
    "Tuple1 = ('a','b','c','d')*2\n",
    "print(Tuple1)"
   ]
  },
  {
   "cell_type": "code",
   "execution_count": 59,
   "metadata": {},
   "outputs": [
    {
     "name": "stdout",
     "output_type": "stream",
     "text": [
      "('a', 'b', 'c', 'd', 'e', 'f', 'g', 'h')\n"
     ]
    }
   ],
   "source": [
    "#Concatination:\n",
    "Tuple1 = ('a','b','c','d')\n",
    "Tuple2 = ('e','f','g','h')\n",
    "print(Tuple1+Tuple2)"
   ]
  },
  {
   "cell_type": "code",
   "execution_count": 67,
   "metadata": {},
   "outputs": [
    {
     "name": "stdout",
     "output_type": "stream",
     "text": [
      "True\n",
      "False\n",
      "True False\n",
      "True True\n",
      "False True\n"
     ]
    }
   ],
   "source": [
    "#Membership\n",
    "Tuple1 = ('a','b','c','d')\n",
    "Tuple2 = ('e','f','g','h','a')\n",
    "print('a'in Tuple1)\n",
    "print('h' in Tuple1)\n",
    "print('a' in Tuple1,'h' in Tuple1)\n",
    "print('a' in Tuple1,'h' not in Tuple1)\n",
    "print('a' not in Tuple1,'h' in Tuple2)"
   ]
  },
  {
   "cell_type": "code",
   "execution_count": 73,
   "metadata": {},
   "outputs": [
    {
     "name": "stdout",
     "output_type": "stream",
     "text": [
      "8\n"
     ]
    }
   ],
   "source": [
    "#Length:\n",
    "Tuple1 = ('a','b','c','d')\n",
    "Tuple2 = ('e','f','g','h')\n",
    "Tuple=Tuple1+Tuple2\n",
    "print(len(Tuple))"
   ]
  },
  {
   "cell_type": "code",
   "execution_count": 74,
   "metadata": {},
   "outputs": [
    {
     "name": "stdout",
     "output_type": "stream",
     "text": [
      "a\n",
      "b\n",
      "c\n",
      "d\n",
      "e\n",
      "f\n",
      "g\n",
      "h\n"
     ]
    }
   ],
   "source": [
    "#Iteration:\n",
    "Tuple1 = ('a','b','c','d')\n",
    "Tuple2 = ('e','f','g','h')\n",
    "Tuple=Tuple1+Tuple2\n",
    "for i in Tuple:\n",
    "    print(i)"
   ]
  },
  {
   "cell_type": "code",
   "execution_count": 76,
   "metadata": {},
   "outputs": [
    {
     "name": "stdout",
     "output_type": "stream",
     "text": [
      "8765\n"
     ]
    }
   ],
   "source": [
    "#4\n",
    "#max()\n",
    "Tuple1 =(1,4,2,4,5,6,3,5,4,6,77,8,7,7,876,89,8765,4,5,1,876,9,3456,4234)\n",
    "Tuple=max(Tuple1)\n",
    "print(Tuple)"
   ]
  },
  {
   "cell_type": "code",
   "execution_count": 77,
   "metadata": {},
   "outputs": [
    {
     "name": "stdout",
     "output_type": "stream",
     "text": [
      "1\n"
     ]
    }
   ],
   "source": [
    "#min()\n",
    "Tuple1 =(1,4,2,4,5,6,3,5,4,6,77,8,7,7,876,89,8765,4,5,1,876,9,3456,4234)\n",
    "Tuple=min(Tuple1)\n",
    "print(Tuple)"
   ]
  },
  {
   "cell_type": "code",
   "execution_count": 80,
   "metadata": {},
   "outputs": [
    {
     "name": "stdout",
     "output_type": "stream",
     "text": [
      "[1, 4, 2, 4, 5, 6, 3, 5, 4, 6, 77, 8, 7, 7, 876, 89, 8765, 4, 5, 1, 876, 9, 3456, 4234]\n",
      "(1, 4, 2, 4, 5, 6, 3, 5, 4, 6, 77, 8, 7, 7, 876, 89, 8765, 4, 5, 1, 876, 9, 3456, 4234)\n"
     ]
    }
   ],
   "source": [
    "#Tuple to List\n",
    "Tuple1 =(1,4,2,4,5,6,3,5,4,6,77,8,7,7,876,89,8765,4,5,1,876,9,3456,4234)\n",
    "Tuple=list(Tuple1)\n",
    "print(Tuple)\n",
    "Tuple2=tuple(Tuple)\n",
    "print(Tuple2)"
   ]
  },
  {
   "cell_type": "code",
   "execution_count": 1,
   "metadata": {},
   "outputs": [
    {
     "name": "stdout",
     "output_type": "stream",
     "text": [
      "{1, 2, 3, 4, 5, 6, 7, 8, 876, 77, 432, 54, 567}\n"
     ]
    }
   ],
   "source": [
    "#Python Set\n",
    "#Union\n",
    "Set1 = {1,4,2,4,5,6,3,5,4,6,77,8,7,7,876}\n",
    "Set2 = {3,432,5,6,4,6,7,6,5,6,54,567,5}\n",
    "print(Set1.union(Set2))"
   ]
  },
  {
   "cell_type": "code",
   "execution_count": 2,
   "metadata": {},
   "outputs": [
    {
     "name": "stdout",
     "output_type": "stream",
     "text": [
      "{3, 4, 5, 6, 7}\n"
     ]
    }
   ],
   "source": [
    "#Intersection\n",
    "Set1 = {1,4,2,4,5,6,3,5,4,6,77,8,7,7,876}\n",
    "Set2 = {3,432,5,6,4,6,7,6,5,6,54,567,5}\n",
    "print(Set1.intersection(Set2))"
   ]
  },
  {
   "cell_type": "code",
   "execution_count": 3,
   "metadata": {},
   "outputs": [
    {
     "name": "stdout",
     "output_type": "stream",
     "text": [
      "{1, 2, 8, 876, 77}\n",
      "{432, 54, 567}\n"
     ]
    }
   ],
   "source": [
    "#Difference\n",
    "Set1 = {1,4,2,4,5,6,3,5,4,6,77,8,7,7,876}\n",
    "Set2 = {3,432,5,6,4,6,7,6,5,6,54,567,5}\n",
    "print(Set1.difference(Set2))\n",
    "print(Set2.difference(Set1))"
   ]
  },
  {
   "cell_type": "code",
   "execution_count": 4,
   "metadata": {},
   "outputs": [
    {
     "name": "stdout",
     "output_type": "stream",
     "text": [
      "{1, 2, 8, 876, 77, 432, 54, 567}\n"
     ]
    }
   ],
   "source": [
    "#Symmetric_Difference()\n",
    "Set1 = {1,4,2,4,5,6,3,5,4,6,77,8,7,7,876}\n",
    "Set2 = {3,432,5,6,4,6,7,6,5,6,54,567,5}\n",
    "Set3 = Set1.symmetric_difference(Set2)\n",
    "print(Set3)"
   ]
  },
  {
   "cell_type": "code",
   "execution_count": 5,
   "metadata": {},
   "outputs": [
    {
     "name": "stdout",
     "output_type": "stream",
     "text": [
      "2\n"
     ]
    }
   ],
   "source": [
    "#Python Dictionary\n",
    "#len()\n",
    "dict = {'Name': 'Student', 'Age': 27};\n",
    "print(len(dict))"
   ]
  },
  {
   "cell_type": "code",
   "execution_count": 6,
   "metadata": {},
   "outputs": [
    {
     "name": "stdout",
     "output_type": "stream",
     "text": [
      "{'Name': 'Student', 'Age': 27}\n"
     ]
    }
   ],
   "source": [
    "#str()\n",
    "dict = {'Name': 'Student', 'Age': 27};\n",
    "print(str(dict))"
   ]
  },
  {
   "cell_type": "code",
   "execution_count": 7,
   "metadata": {},
   "outputs": [
    {
     "name": "stdout",
     "output_type": "stream",
     "text": [
      "<class 'dict'>\n"
     ]
    }
   ],
   "source": [
    "#type()\n",
    "dict1 = {'Name': 'Student', 'Age': 27};\n",
    "print(type(dict1))"
   ]
  },
  {
   "cell_type": "code",
   "execution_count": 8,
   "metadata": {},
   "outputs": [
    {
     "name": "stdout",
     "output_type": "stream",
     "text": [
      "{0: ' Data', 1: 'GUVI', 2: 'GEEK', 3: 'Python', 4: 'Happy'}\n"
     ]
    }
   ],
   "source": [
    "#dict.copy()\n",
    "dictionaries = {0:\" Data\",1: \"GUVI\", 2: \"GEEK\",3:\"Python\",4:\"Happy\"}\n",
    "Dict = dictionaries.copy()\n",
    "print(Dict)"
   ]
  },
  {
   "cell_type": "code",
   "execution_count": 9,
   "metadata": {},
   "outputs": [
    {
     "name": "stdout",
     "output_type": "stream",
     "text": [
      "None\n"
     ]
    }
   ],
   "source": [
    "#dict.clear()\n",
    "dictionaries = {0:\" Data\",1: \"GUVI\", 2: \"GEEK\",3:\"Python\",4:\"Happy\"}\n",
    "print(dictionaries.clear())"
   ]
  },
  {
   "cell_type": "code",
   "execution_count": 10,
   "metadata": {},
   "outputs": [
    {
     "name": "stdout",
     "output_type": "stream",
     "text": [
      "dict_items([(0, ' Data'), (1, 'GUVI'), (2, 'GEEK'), (3, 'Python'), (4, 'Happy')])\n"
     ]
    }
   ],
   "source": [
    "#dict.items()\n",
    "dictionaries = {0:\" Data\",1: \"GUVI\", 2: \"GEEK\",3:\"Python\",4:\"Happy\"}\n",
    "print(dictionaries.items())"
   ]
  },
  {
   "cell_type": "code",
   "execution_count": 11,
   "metadata": {},
   "outputs": [
    {
     "name": "stdout",
     "output_type": "stream",
     "text": [
      " Data\n"
     ]
    }
   ],
   "source": [
    "#dict.get(key[, value])\n",
    "dictionaries = {0:\" Data\",1: \"GUVI\", 2: \"GEEK\",3:\"Python\",4:\"Happy\"}\n",
    "print(dictionaries.get(0))"
   ]
  },
  {
   "cell_type": "code",
   "execution_count": 12,
   "metadata": {},
   "outputs": [
    {
     "name": "stdout",
     "output_type": "stream",
     "text": [
      "dict_keys([0, 1, 2, 3, 4])\n"
     ]
    }
   ],
   "source": [
    "#dict.keys()\n",
    "dictionaries = {0:\" Data\",1: \"GUVI\", 2: \"GEEK\",3:\"Python\",4:\"Happy\"}\n",
    "print(dictionaries.keys())"
   ]
  },
  {
   "cell_type": "code",
   "execution_count": 13,
   "metadata": {},
   "outputs": [
    {
     "name": "stdout",
     "output_type": "stream",
     "text": [
      "{0: 'GUVI', 1: 'GUVI', 2: 'GUVI', 3: 'GUVI', 4: 'GUVI'}\n"
     ]
    }
   ],
   "source": [
    "#dict.fromkeys()\n",
    "dictionaries = {0:\" Data\",1: \"GUVI\", 2: \"GEEK\",3:\"Python\",4:\"Happy\"}\n",
    "print(dictionaries.fromkeys(dictionaries,\"GUVI\"))"
   ]
  },
  {
   "cell_type": "code",
   "execution_count": 14,
   "metadata": {},
   "outputs": [
    {
     "name": "stdout",
     "output_type": "stream",
     "text": [
      "dict_values([' Data', 'GUVI', 'GEEK', 'Python', 'Happy'])\n"
     ]
    }
   ],
   "source": [
    "#dict.values()\n",
    "dictionaries = {0:\" Data\",1: \"GUVI\", 2: \"GEEK\",3:\"Python\",4:\"Happy\"}\n",
    "print(dictionaries.values())"
   ]
  },
  {
   "cell_type": "code",
   "execution_count": 15,
   "metadata": {},
   "outputs": [
    {
     "name": "stdout",
     "output_type": "stream",
     "text": [
      "False\n"
     ]
    }
   ],
   "source": [
    "#IF Statement\n",
    "if 13>25:\n",
    "    print(True)\n",
    "else:\n",
    "    print(False)"
   ]
  },
  {
   "cell_type": "code",
   "execution_count": 16,
   "metadata": {},
   "outputs": [
    {
     "name": "stdout",
     "output_type": "stream",
     "text": [
      "50\n",
      "Yes\n"
     ]
    }
   ],
   "source": [
    "#IF and Else statement\n",
    "N = int(input())\n",
    "if N%25==0:\n",
    "  print(\"Yes\")\n",
    "else:\n",
    "  print(\"No\")"
   ]
  },
  {
   "cell_type": "code",
   "execution_count": 17,
   "metadata": {},
   "outputs": [
    {
     "name": "stdout",
     "output_type": "stream",
     "text": [
      "15455  is a gratest number\n"
     ]
    }
   ],
   "source": [
    "#IF,Elif and Else Statements\n",
    "a = 15455; b = 2451; c = 6054\n",
    "if a>=b and a>=c:\n",
    "    print(a, \" is a gratest number\")\n",
    "elif b>=a and b>=c:\n",
    "    print(b, \" is a greatest number\")\n",
    "else:\n",
    "    print(c, \" is a greatest number\")"
   ]
  },
  {
   "cell_type": "code",
   "execution_count": null,
   "metadata": {},
   "outputs": [],
   "source": []
  }
 ],
 "metadata": {
  "kernelspec": {
   "display_name": "Python 3 (ipykernel)",
   "language": "python",
   "name": "python3"
  },
  "language_info": {
   "codemirror_mode": {
    "name": "ipython",
    "version": 3
   },
   "file_extension": ".py",
   "mimetype": "text/x-python",
   "name": "python",
   "nbconvert_exporter": "python",
   "pygments_lexer": "ipython3",
   "version": "3.11.5"
  }
 },
 "nbformat": 4,
 "nbformat_minor": 4
}
