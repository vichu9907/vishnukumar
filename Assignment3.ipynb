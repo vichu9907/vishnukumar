{
 "cells": [
  {
   "cell_type": "code",
   "execution_count": 3,
   "id": "a1dbf384",
   "metadata": {},
   "outputs": [
    {
     "name": "stdout",
     "output_type": "stream",
     "text": [
      "X is less then Y\n"
     ]
    }
   ],
   "source": [
    "X = 20\n",
    "Y = 30\n",
    "if X<Y:\n",
    "    print(\"X is less then Y\")"
   ]
  },
  {
   "cell_type": "code",
   "execution_count": 6,
   "id": "2aed4222",
   "metadata": {},
   "outputs": [
    {
     "name": "stdout",
     "output_type": "stream",
     "text": [
      "Invalid Score\n"
     ]
    }
   ],
   "source": [
    "Theory = 140\n",
    "Practical = 145\n",
    "if Theory+Practical>=200:\n",
    "    print(\"Invalid Score\")"
   ]
  },
  {
   "cell_type": "code",
   "execution_count": null,
   "id": "8e7e952f",
   "metadata": {},
   "outputs": [],
   "source": [
    "User = input()\n",
    "if User == \"yes\":\n",
    "    print(\"Cleared The Test\")\n",
    "else:\n",
    "    print(\"Failed The Test\")"
   ]
  },
  {
   "cell_type": "code",
   "execution_count": null,
   "id": "6eec6e94",
   "metadata": {},
   "outputs": [],
   "source": [
    "Subject = input()\n",
    "if Subject == \"Yes\":\n",
    "    print(\"Cleared The Test\")\n",
    "else:\n",
    "    print(\"Failed The Test\")"
   ]
  },
  {
   "cell_type": "code",
   "execution_count": 1,
   "id": "a12a5bb3",
   "metadata": {},
   "outputs": [
    {
     "name": "stdout",
     "output_type": "stream",
     "text": [
      "wwwerrf\n",
      "Password Wrong\n"
     ]
    }
   ],
   "source": [
    "PWD = input()\n",
    "if  len(PWD)>=8:\n",
    "    print(\"Password Accepted\")\n",
    "else:\n",
    "    print(\"Password Wrong\")\n",
    "    "
   ]
  },
  {
   "cell_type": "code",
   "execution_count": 3,
   "id": "b4feee40",
   "metadata": {},
   "outputs": [
    {
     "name": "stdout",
     "output_type": "stream",
     "text": [
      "18\n",
      "you are not eligible to work\n"
     ]
    }
   ],
   "source": [
    "age = int(input())\n",
    "if age>18:\n",
    "    if age<60:\n",
    "        print(\"ELigible to work Group\")\n",
    "    else:\n",
    "        print(\"Too old to work as per govt regulations\")\n",
    "else:\n",
    "     print(\"you are not eligible to work\")\n",
    "        "
   ]
  },
  {
   "cell_type": "code",
   "execution_count": 12,
   "id": "2fab7700",
   "metadata": {},
   "outputs": [
    {
     "name": "stdout",
     "output_type": "stream",
     "text": [
      "3\n",
      "3\n",
      "2\n",
      "1\n"
     ]
    }
   ],
   "source": [
    "n= int(input())\n",
    "while (n>0):\n",
    "    print(n)\n",
    "    n=n-1"
   ]
  },
  {
   "cell_type": "code",
   "execution_count": 11,
   "id": "e7996e45",
   "metadata": {},
   "outputs": [
    {
     "name": "stdout",
     "output_type": "stream",
     "text": [
      "1 1\n",
      "2 4\n",
      "3 9\n",
      "4 16\n",
      "5 25\n",
      "6 36\n",
      "7 49\n",
      "8 64\n",
      "9 81\n",
      "10 100\n"
     ]
    }
   ],
   "source": [
    "n = 1\n",
    "while n<=10:\n",
    "    print(n,n**2)\n",
    "    n=n+1"
   ]
  },
  {
   "cell_type": "code",
   "execution_count": 13,
   "id": "b89091c3",
   "metadata": {},
   "outputs": [
    {
     "name": "stdout",
     "output_type": "stream",
     "text": [
      "3\n",
      "3 X 1 = 3\n",
      "3 X 2 = 6\n",
      "3 X 3 = 9\n",
      "3 X 4 = 12\n",
      "3 X 5 = 15\n",
      "3 X 6 = 18\n",
      "3 X 7 = 21\n",
      "3 X 8 = 24\n",
      "3 X 9 = 27\n",
      "3 X 10 = 30\n",
      "3 X 11 = 33\n",
      "3 X 12 = 36\n",
      "3 X 13 = 39\n",
      "3 X 14 = 42\n",
      "3 X 15 = 45\n",
      "3 X 16 = 48\n",
      "3 X 17 = 51\n",
      "3 X 18 = 54\n",
      "3 X 19 = 57\n",
      "3 X 20 = 60\n",
      "3 X 21 = 63\n",
      "3 X 22 = 66\n",
      "3 X 23 = 69\n",
      "3 X 24 = 72\n",
      "3 X 25 = 75\n",
      "3 X 26 = 78\n",
      "3 X 27 = 81\n",
      "3 X 28 = 84\n",
      "3 X 29 = 87\n",
      "3 X 30 = 90\n"
     ]
    }
   ],
   "source": [
    "n = int(input())\n",
    "for i in range(1,31):\n",
    "    print(n,\"X\",i,\"=\",n*i)"
   ]
  },
  {
   "cell_type": "code",
   "execution_count": 1,
   "id": "c9997800",
   "metadata": {},
   "outputs": [
    {
     "name": "stdout",
     "output_type": "stream",
     "text": [
      "[1, 484, 196, 4096, 961, 14400]\n"
     ]
    }
   ],
   "source": [
    "numbers = [1, 22, 14, 64, 31, 120]\n",
    "square = []\n",
    "for i in numbers:\n",
    "    square.append(i ** 2)\n",
    "print(square)"
   ]
  },
  {
   "cell_type": "code",
   "execution_count": 4,
   "id": "ad5b06bc",
   "metadata": {},
   "outputs": [
    {
     "name": "stdout",
     "output_type": "stream",
     "text": [
      "red\n",
      "black\n",
      "blue\n"
     ]
    }
   ],
   "source": [
    "list1 = ['red','black','blue']\n",
    "i = 0\n",
    "while i < len(list1):\n",
    "    print(list1[i])\n",
    "    i += 1"
   ]
  },
  {
   "cell_type": "code",
   "execution_count": 5,
   "id": "1743e54f",
   "metadata": {},
   "outputs": [
    {
     "name": "stdout",
     "output_type": "stream",
     "text": [
      "red\n",
      "black\n",
      "blue\n"
     ]
    }
   ],
   "source": [
    "list1 = ['red','black','blue']\n",
    "i = 0\n",
    "for element in list1:\n",
    "  print(list1[i])\n",
    "  i+=1"
   ]
  },
  {
   "cell_type": "code",
   "execution_count": 7,
   "id": "e5cb59b8",
   "metadata": {},
   "outputs": [
    {
     "name": "stdout",
     "output_type": "stream",
     "text": [
      "49\n",
      "7\n",
      "49\n"
     ]
    }
   ],
   "source": [
    "num1 = int(input())\n",
    "num2 = int(input())\n",
    "for i in range(max(num1, num2), 1 + (num1 * num2)):\n",
    "    if i % num1 == i % num2 == 0:\n",
    "        lcm = i\n",
    "        break\n",
    "print( lcm)"
   ]
  },
  {
   "cell_type": "code",
   "execution_count": 8,
   "id": "45a243a5",
   "metadata": {},
   "outputs": [
    {
     "name": "stdout",
     "output_type": "stream",
     "text": [
      "1.0\n",
      "0.5\n",
      "0.3333333333333333\n",
      "0.25\n",
      "0.2\n",
      "0.16666666666666666\n",
      "0.14285714285714285\n",
      "0.125\n",
      "0.1111111111111111\n",
      "0.1\n",
      "the sum of the series is 2.9289682539682538.\n"
     ]
    }
   ],
   "source": [
    "denominator = 1\n",
    "s = 0\n",
    "while denominator <=10:\n",
    "    num = 1 / denominator\n",
    "    print(num)\n",
    "    s += num\n",
    "    denominator += 1\n",
    "print(f'the sum of the series is {s}.')"
   ]
  },
  {
   "cell_type": "code",
   "execution_count": 9,
   "id": "bac9d229",
   "metadata": {},
   "outputs": [
    {
     "name": "stdout",
     "output_type": "stream",
     "text": [
      "[0]\n",
      "[0, 1]\n",
      "[0, 1, 4]\n",
      "[0, 1, 4, 9]\n",
      "[0, 1, 4, 9, 16]\n",
      "[0, 1, 4, 9, 16, 25]\n",
      "[0, 1, 4, 9, 16, 25, 36]\n",
      "[0, 1, 4, 9, 16, 25, 36, 49]\n",
      "[0, 1, 4, 9, 16, 25, 36, 49, 64]\n",
      "[0, 1, 4, 9, 16, 25, 36, 49, 64, 81]\n",
      "[0, 1, 4, 9, 16, 25, 36, 49, 64, 81, 100]\n"
     ]
    }
   ],
   "source": [
    "def printValue():\n",
    " l = []\n",
    " for i in range (11):\n",
    "   l.append(i**2)\n",
    "   print(l)\n",
    "printValue()"
   ]
  },
  {
   "cell_type": "code",
   "execution_count": 10,
   "id": "2e003653",
   "metadata": {},
   "outputs": [
    {
     "name": "stdout",
     "output_type": "stream",
     "text": [
      "[]\n"
     ]
    }
   ],
   "source": [
    "def squares(start, end):\n",
    "    return [  ]\n",
    "print(squares(0,10))"
   ]
  },
  {
   "cell_type": "code",
   "execution_count": 12,
   "id": "284b3be1",
   "metadata": {},
   "outputs": [
    {
     "name": "stdout",
     "output_type": "stream",
     "text": [
      "[0, 1, 4, 9, 16, 25, 36, 49, 64, 81, 100]\n"
     ]
    }
   ],
   "source": [
    "def squares(start, end):\n",
    "    squares = [value ** 2 for value in range(start,end+1)]\n",
    "    return squares\n",
    "print(squares(0, 10))"
   ]
  },
  {
   "cell_type": "code",
   "execution_count": 14,
   "id": "1b4adb36",
   "metadata": {},
   "outputs": [
    {
     "name": "stdout",
     "output_type": "stream",
     "text": [
      "[0, 1, 4, 9, 16, 25, 36, 49, 64, 81, 100]\n"
     ]
    }
   ],
   "source": [
    "def squares(start, end):\n",
    "    squares = [value ** 2 for value in range(start,end+1)]\n",
    "    return squares\n",
    "print(squares(0, 10))"
   ]
  },
  {
   "cell_type": "code",
   "execution_count": 16,
   "id": "1a37ce52",
   "metadata": {},
   "outputs": [
    {
     "name": "stdout",
     "output_type": "stream",
     "text": [
      "['0', '1', '4', '9', '16', '25', '36', '49', '64', '81', '100']\n"
     ]
    }
   ],
   "source": [
    "squares = [0, 1, 4, 9, 16, 25, 36, 49, 64, 81, 100]\n",
    "new_list = [str(element) for element in squares]\n",
    "print(new_list)"
   ]
  },
  {
   "cell_type": "code",
   "execution_count": 17,
   "id": "cb01f884",
   "metadata": {},
   "outputs": [
    {
     "name": "stdout",
     "output_type": "stream",
     "text": [
      "[(0, 0), (0, 1), (0, 2), (0, 3), (0, 4), (1, 0), (1, 1), (1, 2), (1, 3), (1, 4), (2, 0), (2, 1), (2, 2), (2, 3), (2, 4), (3, 0), (3, 1), (3, 2), (3, 3), (3, 4), (4, 0), (4, 1), (4, 2), (4, 3), (4, 4)]\n"
     ]
    }
   ],
   "source": [
    "list1 = [0,1,2,3,4]\n",
    "list2 = [0,1,2,3,4]\n",
    "\n",
    "list_of_tuples = [(x, y) for x in list1 for y in list2]\n",
    "print(list_of_tuples)"
   ]
  },
  {
   "cell_type": "code",
   "execution_count": 18,
   "id": "7ac5bc7e",
   "metadata": {},
   "outputs": [
    {
     "name": "stdout",
     "output_type": "stream",
     "text": [
      "[(0, 1), (1, 2), (2, 3), (3, 4), (4, 5)]\n"
     ]
    }
   ],
   "source": [
    "list1 = [1, 2, 3, 4, 5]\n",
    "list2 = [(i, x) for i, x in enumerate(list1)]\n",
    "print(list2)"
   ]
  },
  {
   "cell_type": "code",
   "execution_count": null,
   "id": "100330cf",
   "metadata": {},
   "outputs": [],
   "source": []
  }
 ],
 "metadata": {
  "kernelspec": {
   "display_name": "Python 3 (ipykernel)",
   "language": "python",
   "name": "python3"
  },
  "language_info": {
   "codemirror_mode": {
    "name": "ipython",
    "version": 3
   },
   "file_extension": ".py",
   "mimetype": "text/x-python",
   "name": "python",
   "nbconvert_exporter": "python",
   "pygments_lexer": "ipython3",
   "version": "3.11.5"
  }
 },
 "nbformat": 4,
 "nbformat_minor": 5
}
