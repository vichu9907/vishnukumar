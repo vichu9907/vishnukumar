{
  "cells": [
    {
      "cell_type": "markdown",
      "metadata": {
        "id": "D-KgkVX3IZ-S"
      },
      "source": [
        "1.  Python Program to exchange the values of two numbers without using a temporary variable."
      ]
    },
    {
      "cell_type": "code",
      "execution_count": null,
      "metadata": {
        "id": "yldf_YhdIZ-T"
      },
      "outputs": [],
      "source": [
        "\n"
      ]
    },
    {
      "cell_type": "markdown",
      "metadata": {
        "id": "MrK3aZMGIZ-Y"
      },
      "source": [
        "2. Write a python code to replace all  \"a\"  with 2 for the given variable\n",
        "s = 'abc12321cba'"
      ]
    },
    {
      "cell_type": "code",
      "execution_count": null,
      "metadata": {
        "id": "J7rr7O5XIZ-Z",
        "colab": {
          "base_uri": "https://localhost:8080/"
        },
        "outputId": "672327eb-4487-41e9-fa16-e884f70aaf8a"
      },
      "outputs": [
        {
          "output_type": "stream",
          "name": "stdout",
          "text": [
            "2bc12321cb2\n"
          ]
        }
      ],
      "source": [
        "s = ('abc12321cba')\n",
        "s = s.replace('a','2')\n",
        "s = s.replace('a'.upper(),'2')\n",
        "print(s)"
      ]
    },
    {
      "cell_type": "markdown",
      "metadata": {
        "id": "Zo8gMGlbIZ-g"
      },
      "source": [
        "3. Python code for to  remove first character in string?"
      ]
    },
    {
      "cell_type": "code",
      "execution_count": null,
      "metadata": {
        "id": "XTIKmVpiIZ-h",
        "colab": {
          "base_uri": "https://localhost:8080/"
        },
        "outputId": "16e5f5c4-c9d0-48a3-a219-b3297984ff66"
      },
      "outputs": [
        {
          "output_type": "stream",
          "name": "stdout",
          "text": [
            "hello\n",
            "ello\n"
          ]
        }
      ],
      "source": [
        "a = str(input())\n",
        "b = a[1:]\n",
        "print(b)\n"
      ]
    },
    {
      "cell_type": "markdown",
      "metadata": {
        "id": "XBhfFfEIIZ-n"
      },
      "source": [
        "4. Concatenate two strings  \n",
        "First Input : \"hello\"\n",
        "Second Input : \"guvi\"\n",
        "desired output :   \"hello guvi\""
      ]
    },
    {
      "cell_type": "code",
      "execution_count": null,
      "metadata": {
        "id": "qVhNDe9mIZ-p",
        "colab": {
          "base_uri": "https://localhost:8080/"
        },
        "outputId": "1dd26c61-f930-4c1d-bb7d-91fcce7f9546"
      },
      "outputs": [
        {
          "output_type": "stream",
          "name": "stdout",
          "text": [
            "hello\n",
            "guvi\n",
            "hello guvi\n"
          ]
        }
      ],
      "source": [
        "a = str(input())\n",
        "b = str(input())\n",
        "print(a,b)"
      ]
    },
    {
      "cell_type": "markdown",
      "metadata": {
        "id": "W1CyejMTIZ-t"
      },
      "source": [
        "5. Repeat the string \"hello guvi\" 3 times\n",
        "desired output :  'hello guvi hello guvi hello guvi '"
      ]
    },
    {
      "cell_type": "code",
      "execution_count": null,
      "metadata": {
        "id": "6B83XYHVIZ-u",
        "colab": {
          "base_uri": "https://localhost:8080/"
        },
        "outputId": "e6038c3c-f785-4537-b983-afffc09ec005"
      },
      "outputs": [
        {
          "output_type": "stream",
          "name": "stdout",
          "text": [
            "hello guvi\n",
            "hello guvihello guvihello guvi\n"
          ]
        }
      ],
      "source": [
        "a = str(input())\n",
        "print(a*3)"
      ]
    },
    {
      "cell_type": "markdown",
      "metadata": {
        "id": "4oblWnrSIZ-y"
      },
      "source": [
        "6. Create 3 variables a1,a2,a3. Assign the same value \" 4 \" to all the variables in a single line of code."
      ]
    },
    {
      "cell_type": "code",
      "execution_count": null,
      "metadata": {
        "id": "O7nH3nd-IZ-y",
        "colab": {
          "base_uri": "https://localhost:8080/"
        },
        "outputId": "59e0db7e-8c47-4160-e56f-85736c3cb568"
      },
      "outputs": [
        {
          "output_type": "stream",
          "name": "stdout",
          "text": [
            "12\n"
          ]
        }
      ],
      "source": [
        "a1=a2=a3=4"
      ]
    },
    {
      "cell_type": "markdown",
      "metadata": {
        "id": "fs_t4D-oIZ-2"
      },
      "source": [
        "7. Calculate BMI of a person using the height and weight.\n",
        "BMI = weight / (height **2)\n"
      ]
    },
    {
      "cell_type": "code",
      "execution_count": null,
      "metadata": {
        "id": "N_VZSoYjIZ-3",
        "colab": {
          "base_uri": "https://localhost:8080/"
        },
        "outputId": "030a7f33-ee2e-40da-fb54-6e21ddaac05a"
      },
      "outputs": [
        {
          "output_type": "stream",
          "name": "stdout",
          "text": [
            "60\n",
            "180\n",
            "0.001851851851851852\n"
          ]
        }
      ],
      "source": [
        "w = int(input())\n",
        "h = int(input())\n",
        "bmi = ((w)/(h**2))\n",
        "print(bmi)"
      ]
    },
    {
      "cell_type": "markdown",
      "metadata": {
        "id": "JgXK2m28IZ-7"
      },
      "source": [
        "8.Write a python program to calculate the area of circle."
      ]
    },
    {
      "cell_type": "code",
      "execution_count": null,
      "metadata": {
        "id": "m73v7qoCIZ-8",
        "colab": {
          "base_uri": "https://localhost:8080/"
        },
        "outputId": "be8e11a6-c7fe-4dc6-a504-9d795492ee4c"
      },
      "outputs": [
        {
          "output_type": "stream",
          "name": "stdout",
          "text": [
            "10\n",
            "314.1592653589793\n"
          ]
        }
      ],
      "source": [
        "import math\n",
        "r = int(input())\n",
        "pi = math.pi\n",
        "a = pi*r**2\n",
        "print(a)"
      ]
    },
    {
      "cell_type": "markdown",
      "metadata": {
        "id": "BHXFt9VwIZ_A"
      },
      "source": [
        "9.Calculate the simple interest\n",
        "simple_interest = p * n * r /100"
      ]
    },
    {
      "cell_type": "code",
      "execution_count": null,
      "metadata": {
        "id": "7wHLjXC4IZ_B"
      },
      "outputs": [],
      "source": [
        "a,b,c = input().split()\n",
        "d = int(a)\n",
        "e = int(b)\n",
        "f = int(c)\n",
        "si = (((d)*(e)*(f))/100)\n",
        "g = round(si,2)\n",
        "print(g)"
      ]
    },
    {
      "cell_type": "markdown",
      "metadata": {
        "id": "afLADSCGIZ_G"
      },
      "source": [
        "10.Python code to calculate the square root of the given number(run time variable)"
      ]
    },
    {
      "cell_type": "code",
      "execution_count": null,
      "metadata": {
        "id": "XBTku4euIZ_H",
        "colab": {
          "base_uri": "https://localhost:8080/"
        },
        "outputId": "7fe89d0b-85ae-41fb-8fe2-db450081b352"
      },
      "outputs": [
        {
          "output_type": "stream",
          "name": "stdout",
          "text": [
            "100\n",
            "10\n"
          ]
        }
      ],
      "source": [
        "import math\n",
        "a = int(input())\n",
        "a = math.sqrt(a)\n",
        "print(int(a))"
      ]
    }
  ],
  "metadata": {
    "colab": {
      "provenance": []
    },
    "kernelspec": {
      "display_name": "Python 3 (ipykernel)",
      "language": "python",
      "name": "python3"
    },
    "language_info": {
      "codemirror_mode": {
        "name": "ipython",
        "version": 3
      },
      "file_extension": ".py",
      "mimetype": "text/x-python",
      "name": "python",
      "nbconvert_exporter": "python",
      "pygments_lexer": "ipython3",
      "version": "3.9.13"
    }
  },
  "nbformat": 4,
  "nbformat_minor": 0
}